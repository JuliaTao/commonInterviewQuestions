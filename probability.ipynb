{
 "cells": [
  {
   "cell_type": "markdown",
   "metadata": {
    "collapsed": true
   },
   "source": [
    "## Probability"
   ]
  },
  {
   "cell_type": "code",
   "execution_count": 1,
   "metadata": {
    "collapsed": false
   },
   "outputs": [],
   "source": [
    "from __future__ import division\n",
    "import numpy as np\n",
    "from collections import Counter\n",
    "import random\n",
    "import scipy.stats"
   ]
  },
  {
   "cell_type": "markdown",
   "metadata": {},
   "source": [
    "1\\. Bobo the amoeba has a 25%, 25%, and 50% chance of descendants also have the same probabilities. What is the probability that Bobo’s lineage dies out?\n",
    "\n",
    "```\n",
    "p = 0.25 + 0.25*p + 0.5*(p^2)\n",
    "\n",
    "solutions:\n",
    "p = 0.5\n",
    "p = 1 (not really sure what to think of this one)\n",
    "```\n",
    "\n",
    "We can write some code to simulate the scenario:"
   ]
  },
  {
   "cell_type": "code",
   "execution_count": 2,
   "metadata": {
    "collapsed": false
   },
   "outputs": [
    {
     "name": "stdout",
     "output_type": "stream",
     "text": [
      "survival rate: 50.39% (in 10000 experiments)\n"
     ]
    }
   ],
   "source": [
    "def generation(n=1): # n is number of living amoebas\n",
    "    if n > 100:\n",
    "        return True # consider survived\n",
    "    else:\n",
    "        next_gen = 0\n",
    "        # for each amoeba in current generation count descendants\n",
    "        for amoeba in xrange(n):\n",
    "            # random number of descendants: 0-3\n",
    "            descendants = np.random.randint(0,4)\n",
    "            # 3 descendants are only two :)\n",
    "            if descendants == 3:\n",
    "                descendants = 2\n",
    "            next_gen += descendants\n",
    "        if next_gen == 0:\n",
    "            return False # died out\n",
    "        else:\n",
    "            return generation(n=next_gen)\n",
    "\n",
    "experiments = 10000\n",
    "survived = 0\n",
    "for experiment in xrange(experiments):\n",
    "    if generation():\n",
    "        survived += 1\n",
    "print 'survival rate: {}% (in {} experiments)'.format(100*survived/experiments, experiments)"
   ]
  },
  {
   "cell_type": "markdown",
   "metadata": {},
   "source": [
    "2\\. In any 15-minute interval, there is a 20% probability that you will see at least one shooting star. What is the probability that you see at least one shooting star in the period of an hour?\n",
    "\n",
    "```\n",
    "1 - p(0 stars)\n",
    "1 - 0.8**4\n",
    "0.5904\n",
    "```\n",
    "\n",
    "See whether the code agrees:"
   ]
  },
  {
   "cell_type": "code",
   "execution_count": 3,
   "metadata": {
    "collapsed": false
   },
   "outputs": [
    {
     "name": "stdout",
     "output_type": "stream",
     "text": [
      "saw at least one star: 59.47% (in 10000 experiments)\n"
     ]
    }
   ],
   "source": [
    "def hour():\n",
    "    for quarter in xrange(4):\n",
    "        if np.random.randint(0,5) == 0:\n",
    "            return True\n",
    "    return False\n",
    "\n",
    "experiments = 10000\n",
    "stars = 0\n",
    "for experiment in xrange(experiments):\n",
    "    if hour():\n",
    "        stars += 1\n",
    "print 'saw at least one star: {}% (in {} experiments)'.format(100*stars/experiments, experiments)"
   ]
  },
  {
   "cell_type": "markdown",
   "metadata": {},
   "source": [
    "3\\. How can you generate a random number between 1 - 7 with only a die?\n",
    "\n",
    "```\n",
    "roll twice (if both rolls are six start over)\n",
    "there are 35 possibilities (6*6-1 for ignoring two sixes), all equally likely\n",
    "just divide them into 7 \"buckets\"\n",
    "this will return numbers from 1 to 35 (x, y being first and second roll): 6(x-1) + y\n",
    "we can then just do modulo 7 and add 1\n",
    "```\n",
    "\n",
    "See if it works (it is not ideal but I am going to blame numpy non-randomness):"
   ]
  },
  {
   "cell_type": "code",
   "execution_count": 4,
   "metadata": {
    "collapsed": false
   },
   "outputs": [
    {
     "name": "stdout",
     "output_type": "stream",
     "text": [
      "Counter({2: 1679, 1: 1418, 3: 1418, 4: 1410, 6: 1386, 7: 1353, 5: 1336})\n"
     ]
    }
   ],
   "source": [
    "x = np.random.randint(1, 7, size=10000)\n",
    "y = np.random.randint(1, 7, size=10000)\n",
    "print Counter((6*(x-1) + y) % 7 + 1)"
   ]
  },
  {
   "cell_type": "markdown",
   "metadata": {},
   "source": [
    "4\\. How can you get a fair coin toss if someone hands you a coin that is weighted to come up heads more often than tails?\n",
    "\n",
    "```\n",
    "Flip twice:\n",
    "- HT >> \"Heads\", done\n",
    "- TH >> \"Tails\", done\n",
    "- HH or TT >> start over\n",
    "\n",
    "Sanity check: If coin is fair the result is the first toss which is fair.\n",
    "It may take a while if the coin is not fair but eventualy there will be either HT or TH, both the same likely.\n",
    "```\n",
    "\n",
    "Lets do a simulation:"
   ]
  },
  {
   "cell_type": "code",
   "execution_count": 5,
   "metadata": {
    "collapsed": false
   },
   "outputs": [
    {
     "name": "stdout",
     "output_type": "stream",
     "text": [
      "Counter({'T': 1647, 'H': 1601})\n"
     ]
    }
   ],
   "source": [
    "def flip(p):\n",
    "    return 'H' if random.random() < p else 'T'\n",
    "\n",
    "experiments = 10000\n",
    "results = []\n",
    "p = 0.8\n",
    "for experiment in xrange(experiments):\n",
    "    x = flip(p)\n",
    "    y = flip(p)\n",
    "    if x != y:\n",
    "        results.append(x)\n",
    "\n",
    "print Counter(results)"
   ]
  },
  {
   "cell_type": "markdown",
   "metadata": {},
   "source": [
    "5\\. You have an 50-50 mixture of two normal distributions with the same standard deviation. How far apart do the means need to be in order for this distribution to be bimodal?\n",
    "\n",
    "```\n",
    "Definition: Bimodal distribution is a continuous probability distribution with two different modes. These appear as distinct peaks (local maxima) in the probability density function.\n",
    "\n",
    "The probability of x in the mixture is given by p(x)=0.5N(x;μ1,σ)+0.5N(x;μ2,σ) which is symmetric around (μ1+μ2)/2. The mixture is bimodal if and only if |μ1−μ2|>2σ.\n",
    "```"
   ]
  },
  {
   "cell_type": "markdown",
   "metadata": {},
   "source": [
    "6\\. Given draws from a normal distribution with known parameters, how can you simulate draws from a uniform distribution?\n",
    "\n",
    "```\n",
    "There is actually a technique called Probability Integral Transform (aka Universality of the Uniform) which says \"If you plug in a random variable into its own CDF, you get a Uniform distribution.\" So just plug your draw into the CDF of the normal distribution.\n",
    "```\n",
    "\n",
    "Not really a proof but this is the idea in code:"
   ]
  },
  {
   "cell_type": "code",
   "execution_count": 6,
   "metadata": {
    "collapsed": false
   },
   "outputs": [
    {
     "name": "stdout",
     "output_type": "stream",
     "text": [
      "Counter({8: 1013, 3: 1011, 1: 1007, 9: 1005, 7: 1003, 4: 1002, 0: 1000, 6: 1000, 2: 982, 5: 977})\n"
     ]
    }
   ],
   "source": [
    "def draw():\n",
    "    draw = scipy.stats.norm.rvs()\n",
    "    return int(scipy.stats.norm.cdf(draw)*10) #multiply by 10 and round down to int\n",
    "\n",
    "results = []\n",
    "experiments = 10000\n",
    "for experiment in xrange(experiments):\n",
    "    results.append(draw())\n",
    "\n",
    "print Counter(results)"
   ]
  },
  {
   "cell_type": "markdown",
   "metadata": {},
   "source": [
    "7\\. A certain couple tells you that they have two children, at least one of which is a girl. What is the probability that they have two girls?\n",
    "\n",
    "```\n",
    "Assuming the chances for boy vs girl are equal, the sample space is {BB, BG, GB, GG}.\n",
    "We know their case is not BB, which leaves us with BG, GB, GG. The chance of two girls is 1/3.\n",
    "```\n",
    "\n",
    "Some experiment code:"
   ]
  },
  {
   "cell_type": "code",
   "execution_count": 7,
   "metadata": {
    "collapsed": false
   },
   "outputs": [
    {
     "name": "stdout",
     "output_type": "stream",
     "text": [
      "0.337175410705\n"
     ]
    }
   ],
   "source": [
    "x = np.random.randint(0, 2, size=10000) # 1st child (girl 0, boy 1)\n",
    "y = np.random.randint(0, 2, size=10000) # 2nd child (girl 0, boy 1)\n",
    "\n",
    "# two girls: x + y = 0\n",
    "# at least one girl: x + y <=1\n",
    "print sum(x + y == 0) / sum(x + y <= 1)"
   ]
  },
  {
   "cell_type": "markdown",
   "metadata": {},
   "source": [
    "8\\. You have a group of couples that decide to have children until they have their first girl, after which they stop having children. What is the expected gender ratio of the children that are born? What is the expected number of children each couple will have?\n",
    "\n",
    "```\n",
    "Intuitively: All couples have their first child and those children are 50-50 boys and girls. Half of the couples (those with boys) has another child and those children are again 50-50 boys and girls. This continues but the ration remains and there is the same number of girls and boys. Expected number of children for each couple is 2.\n",
    "```"
   ]
  },
  {
   "cell_type": "code",
   "execution_count": 8,
   "metadata": {
    "collapsed": false
   },
   "outputs": [
    {
     "name": "stdout",
     "output_type": "stream",
     "text": [
      "10000 girls, 9879 boys, 1.9879 children per couple\n"
     ]
    }
   ],
   "source": [
    "def generation(n=10, g=0, b=0): # n is number of couples\n",
    "    if n == 0:\n",
    "        return g, b\n",
    "    else:\n",
    "        children = np.random.randint(0, 2, size=n) # girl 0, boy 1\n",
    "        g += sum(children == 0)\n",
    "        b += sum(children == 1)\n",
    "        return generation(n=sum(children == 1), g=g, b=b)\n",
    "\n",
    "couples = 10000\n",
    "girls, boys = generation(n=couples)\n",
    "print '{} girls, {} boys, {} children per couple'.format(girls, boys, (girls+boys)/couples)"
   ]
  },
  {
   "cell_type": "markdown",
   "metadata": {},
   "source": [
    "9\\. How many ways can you split 12 people into 3 teams of 4?\n",
    "\n",
    "```\n",
    "12 choose 4 for the first group = 495\n",
    "8 choose 4 for the second group = 70\n",
    "4 choose 4 for the third group = 1\n",
    "multiply those numbers and divide by 3! because we do not care about the order of the groups\n",
    "\n",
    "result: (495 * 70 * 1) / 3! = 5775\n",
    "```"
   ]
  },
  {
   "cell_type": "code",
   "execution_count": null,
   "metadata": {
    "collapsed": true
   },
   "outputs": [],
   "source": []
  }
 ],
 "metadata": {
  "kernelspec": {
   "display_name": "Python 2",
   "language": "python",
   "name": "python2"
  },
  "language_info": {
   "codemirror_mode": {
    "name": "ipython",
    "version": 2
   },
   "file_extension": ".py",
   "mimetype": "text/x-python",
   "name": "python",
   "nbconvert_exporter": "python",
   "pygments_lexer": "ipython2",
   "version": "2.7.12"
  }
 },
 "nbformat": 4,
 "nbformat_minor": 0
}
