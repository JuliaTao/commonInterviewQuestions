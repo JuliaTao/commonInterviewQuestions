{
 "cells": [
  {
   "cell_type": "markdown",
   "metadata": {},
   "source": [
    "# Programming with [24 Essential SQL Interview Questions](#SQL_questions)"
   ]
  },
  {
   "cell_type": "markdown",
   "metadata": {},
   "source": [
    "## Pro Tips\n",
    "- Traditional software engineering questions may show up in data science interviews. Expect those questions to be easier, less about systems, and more about your ability to manipulate data read databases, and do simple programming tasks. \n",
    "- Review your SQL and prepare to do common operation such as JOIN, GROUP BY, and COUNT. \n",
    "- Review ways to manipulate data and strings (we suggest doing this in Python) so you can answer questions that involve sifting through numerical or string data."
   ]
  },
  {
   "cell_type": "markdown",
   "metadata": {
    "collapsed": true
   },
   "source": [
    "### 1. Write a function to calculate all possible assignment vectors of 2n users, where n users are assigned to group 0 (control), and n users are assigned to group 1 (treatment). "
   ]
  },
  {
   "cell_type": "code",
   "execution_count": null,
   "metadata": {
    "collapsed": false
   },
   "outputs": [],
   "source": [
    "import itertools\n",
    "\n",
    "def numberOfAsignments(n):\n",
    "    # Check to ensure that n is a positive even integer\n",
    "    if n <= 0 or n % 2 != 0:\n",
    "        print \"Please enter a positive even integer\"\n",
    "        return False\n",
    "    \n",
    "    # The way to select n users out of 2n users is just 2n choose n\n",
    "    # Note if we select n users for the control group, the treatment group will automatically be selected already\n",
    "    # The itertools function will do combinations for us\n",
    "    combos = itertools.combinations(xrange(n), n / 2)\n",
    "    \n",
    "    # Combos is an iterable, so we it has no length element and we need to count it\n",
    "    total = 0\n",
    "    for c in combos:\n",
    "        total += 1\n",
    "    return total"
   ]
  },
  {
   "cell_type": "code",
   "execution_count": null,
   "metadata": {
    "collapsed": false
   },
   "outputs": [],
   "source": [
    "numberOfAsignments(6)"
   ]
  },
  {
   "cell_type": "markdown",
   "metadata": {},
   "source": [
    "### 2. Given a list of tweets, determine the top 10 most used hashtags."
   ]
  },
  {
   "cell_type": "code",
   "execution_count": null,
   "metadata": {
    "collapsed": false
   },
   "outputs": [],
   "source": [
    "'''\n",
    "We need to make a couple of assumptions to answer this question\n",
    "Assumptions:\n",
    "    A tweet can have multiple hashtags\n",
    "    Each list element is just a string with each hastag starting with a # and ending with a space\n",
    "'''\n",
    "import re\n",
    "\n",
    "def topNHashtags(tweets, n):\n",
    "    # Create dictionary where each key will be a unique tweet and each value will be the count\n",
    "    tags = {}\n",
    "    for tweet in tweets:\n",
    "        hashtags = parseHashtags(tweet)\n",
    "        for hashtag in hashtags:\n",
    "            tags[hashtag] = tags.get(hashtag, 0) + 1\n",
    "    \n",
    "    # Return top n results from the dictionary\n",
    "    return sorted(tags, key=tags.get, reverse=True)[:n]\n",
    "        \n",
    "\n",
    "def parseHashtags(tweet):\n",
    "    # Use regex to get the hastags out of a string and return the result in a list\n",
    "    return re.findall('(#\\S+)', tweet)"
   ]
  },
  {
   "cell_type": "code",
   "execution_count": null,
   "metadata": {
    "collapsed": false
   },
   "outputs": [],
   "source": [
    "tweets = ['#hi #my #name #is ndjksancdjksa #hash', '#hash', '#hi #my #hash', '#hash', '#hi']\n",
    "topNHashtags(tweets, 4)"
   ]
  },
  {
   "cell_type": "markdown",
   "metadata": {},
   "source": [
    "### 3. Program an algorithm to find the best approximate solution to the knapsack problem in a given time"
   ]
  },
  {
   "cell_type": "markdown",
   "metadata": {},
   "source": [
    "Knapsack problem:\n",
    "    https://en.wikipedia.org/wiki/Knapsack_problem"
   ]
  },
  {
   "cell_type": "markdown",
   "metadata": {},
   "source": [
    "### 4. Program an algorithm to find the best approximate solution to the traveling salesman problem in a given time"
   ]
  },
  {
   "cell_type": "markdown",
   "metadata": {},
   "source": [
    "Traveling Salesman Problem: https://en.wikipedia.org/wiki/Travelling_salesman_problem"
   ]
  },
  {
   "cell_type": "markdown",
   "metadata": {},
   "source": [
    "### 5. You have a stream of data coming in of size n, but you don’t know what n is ahead of time. Write an algorithm that will take a random sample of k elements. Can you write one that takes O(k) space? "
   ]
  },
  {
   "cell_type": "code",
   "execution_count": null,
   "metadata": {
    "collapsed": true
   },
   "outputs": [],
   "source": [
    "'''\n",
    "The solution is that everytime a new element comes in from the stream roll select a random number [0,1)\n",
    "If the sample is smaller than k, add the element from the stream and the random number to the sample\n",
    "If the random number rolled is smaller than the largest random number in the sample, boot the\n",
    "largest one out and add this one to the sample.\n",
    "'''\n",
    "import numpy as np\n",
    "sample = {}\n",
    "\n",
    "def kRandomSample(stream, k):\n",
    "    if len(sample) < k:\n",
    "        sample[stream] = np.random.rand()\n",
    "    else:\n",
    "        rand = np.random.rand()\n",
    "        if rand < max(sample.itervalues()):\n",
    "            sample.pop(max(sample, key=sample.get), None)\n",
    "            sample[stream] = rand\n",
    "                \n",
    "    return sample"
   ]
  },
  {
   "cell_type": "code",
   "execution_count": null,
   "metadata": {
    "collapsed": false
   },
   "outputs": [],
   "source": [
    "L = [1,2,3,4,5,6,7,8,9,10,11,12,13,14,15,16]\n",
    "sample = {}\n",
    "for i in L:\n",
    "    kRandomSample(i, 5)\n",
    "sample.keys()"
   ]
  },
  {
   "cell_type": "markdown",
   "metadata": {},
   "source": [
    "### 6. Write an algorithm that can calculate the square root of a number"
   ]
  },
  {
   "cell_type": "code",
   "execution_count": null,
   "metadata": {
    "collapsed": true
   },
   "outputs": [],
   "source": [
    "'''\n",
    "Here is an implementation of a binary search for the square root of a number\n",
    "Newton's method would be another valid (and almost certainly faster) solution.\n",
    "Use x ** 2 - n as your function to find the zero of\n",
    "'''\n",
    "def squareRoot(n, err=.00001, maxAttempts=10000):\n",
    "    if n < 0:\n",
    "        print \"Please enter a positive number\"\n",
    "        return False\n",
    "    \n",
    "    iteration = 1\n",
    "    attempt = n / 2.0\n",
    "    attempts = 0\n",
    "    \n",
    "    while abs(attempt ** 2 - n) > err:\n",
    "        attempts += 1\n",
    "        if attempt ** 2 > n:\n",
    "            attempt -= n / float(2 ** attempts)\n",
    "        else:\n",
    "            attempt += n / float(2 ** attempts)\n",
    "        \n",
    "        if attempts > maxAttempts:\n",
    "            print \"Did not converge\"\n",
    "            print attempt\n",
    "            return False\n",
    "    \n",
    "    return attempt"
   ]
  },
  {
   "cell_type": "code",
   "execution_count": null,
   "metadata": {
    "collapsed": false
   },
   "outputs": [],
   "source": [
    "squareRoot(36)"
   ]
  },
  {
   "cell_type": "markdown",
   "metadata": {},
   "source": [
    "### 7. Given a list of numbers, can you return the outliers?"
   ]
  },
  {
   "cell_type": "code",
   "execution_count": null,
   "metadata": {
    "collapsed": true
   },
   "outputs": [],
   "source": [
    "'''\n",
    "Ask the interviewer for clarification.\n",
    "How are outliers defined?\n",
    "This code assumes outliers are defined as numbers outside of [Q1 - 1.5 * IQR, Q3 + 1.5 * IQR]\n",
    "where Q1 is the first quartile, Q3 is the third quartile, and IQR is the inner quartile range (Q3 - Q1)\n",
    "\n",
    "The runtime of this algorithm is at least O(n), but potentially larger depending on how numpy computes quartiles\n",
    "'''\n",
    "import numpy\n",
    "\n",
    "def findOutliers(L):\n",
    "    Q1 = np.percentile(L, 25)\n",
    "    Q3 = np.percentile(L, 75)\n",
    "    IQR = Q3 - Q1\n",
    "    outliers = []\n",
    "    \n",
    "    for num in L:\n",
    "        if num < Q1 - 1.5 * IQR:\n",
    "            outliers.append(num)\n",
    "        elif num > Q3 + 1.5 * IQR:\n",
    "            outliers.append(num)\n",
    "    \n",
    "    return outliers"
   ]
  },
  {
   "cell_type": "code",
   "execution_count": null,
   "metadata": {
    "collapsed": false
   },
   "outputs": [],
   "source": [
    "L = [1,2,3,4,6,1,2,3,4,6,1,99,-100,1,2,3,4,5,2,2,22,34,1,2,3,4,-10]\n",
    "findOutliers(L)"
   ]
  },
  {
   "cell_type": "markdown",
   "metadata": {},
   "source": [
    "### 8. When can parallelism make your algorithms run faster? When could it make your algorithms run slower?"
   ]
  },
  {
   "cell_type": "markdown",
   "metadata": {},
   "source": []
  },
  {
   "cell_type": "markdown",
   "metadata": {},
   "source": [
    "<a id='#9'></a>\n",
    "### 9. What are the different kinds of joins? What are the differences between them?"
   ]
  },
  {
   "cell_type": "markdown",
   "metadata": {},
   "source": [
    "- `INNER JOIN`: Returns only results from both sides of the join that match the join clause.\n",
    "- `OUTER JOIN`: Returns all results from both sides of the join. Matches rows on the left to the right based on the join clause.\n",
    "- `LEFT JOIN`: Returns all results from the left side of the join. Matches to rows on the right if they exist based on the join clause.\n",
    "- `RIGHT JOIN`: Returns all results from the right side of the join. Matches to rows on the left if they exist based on the join clause.\n",
    "- `CROSS JOIN`: Returns all rows on the right matched with all rows on the left (Cartesian product). Results can be pruned down by the join clause.\n",
    "- `NATURAL JOIN`: This is a weird one, the idea is it implicitly joins on columns with the same name. The usual implementation makes it inner join, the shared columns are only returned once."
   ]
  },
  {
   "cell_type": "markdown",
   "metadata": {},
   "source": [
    "### 10. Why might a join on a subquery be slow? How might you speed it up?"
   ]
  },
  {
   "cell_type": "markdown",
   "metadata": {},
   "source": [
    "A join on a subquery might be slow if no index exists because the subquery only exists in memory. You might speed it up by creating the subquery as a temp table then join to the temp table."
   ]
  },
  {
   "cell_type": "markdown",
   "metadata": {},
   "source": [
    "### 11. Describe the difference between primary keys and foreign keys in SQL database."
   ]
  },
  {
   "cell_type": "markdown",
   "metadata": {
    "collapsed": true
   },
   "source": [
    "- Primary key - column or a set of columns that uniquely identify a row in a table.\n",
    "- Foreign key - field (or collection of fields) in a table whose value is required to match the value of the primary key for a second table"
   ]
  },
  {
   "cell_type": "markdown",
   "metadata": {},
   "source": [
    "### 12. Given a **COURSES** table with columns *course_id* and *course_name*, a **FACULTY** table with columns *faculty_id* and *faculty_name*, and a **COURSE_FACULTY** table with columns *faculty_id* and *course_id*, how would you return a list of faculty who teach a course given the name of a course?"
   ]
  },
  {
   "cell_type": "markdown",
   "metadata": {},
   "source": [
    "```SQL\n",
    "SELECT\n",
    "    f.faculty_id, f.faculty_name\n",
    "FROM\n",
    "    COURSES c\n",
    "    JOIN COURSE_FACULTY cf\n",
    "        ON c.course_id = cf.course_id\n",
    "    JOIN FACULTY f\n",
    "        ON f.faculty_id = cf.faculty_id\n",
    "WHERE\n",
    "    c.course_name = 'name_of_course';\n",
    "```"
   ]
  },
  {
   "cell_type": "markdown",
   "metadata": {},
   "source": [
    "### 13. Given a **IMPRESSIONS** table with *ad_id*, *click* (an indicator that the ad was clicked), and *date*, write a SQL query that will tell me the click-through-rate of each ad by month."
   ]
  },
  {
   "cell_type": "markdown",
   "metadata": {},
   "source": [
    "```SQL\n",
    "SELECT\n",
    "    ad_id,\n",
    "    EXTRACT(month FROM date) AS month,\n",
    "    CAST(COUNT(*) FILTER(WHERE click)) / COUNT(*)) AS click_through\n",
    "FROM IMPRESSIONS\n",
    "GROUP BY\n",
    "    ad_id,\n",
    "    EXTRACT(month FROM date);\n",
    "```"
   ]
  },
  {
   "cell_type": "markdown",
   "metadata": {},
   "source": [
    "### 14. Write a query that returns the name of each department and a count of the number of employees in each:\n",
    "- **EMPLOYEES** containing: *Emp_ID* (Primary key) and *Emp_Name*\n",
    "- **EMPLOYEE_DEPT** containing: *Emp_ID* (Foreign key) and *Dept_ID* (Foreign key)\n",
    "- **DEPTS** containing: *Dept_ID* (Primary key) and *Dept_Name*"
   ]
  },
  {
   "cell_type": "markdown",
   "metadata": {},
   "source": [
    "```SQL\n",
    "SELECT\n",
    "    d.dept_name,\n",
    "    COUNT(DISTINCT ed.emp_id) AS emp_count\n",
    "FROM\n",
    "    DEPTS d\n",
    "    LEFT JOIN EMPLOYEE_DEPT ed\n",
    "        ON d.dept_id = ed.dept_id\n",
    "GROUP BY\n",
    "    d.dept_name;\n",
    "```"
   ]
  },
  {
   "cell_type": "markdown",
   "metadata": {},
   "source": [
    "<a id='SQL_questions'></a>\n",
    "# [24 Essential SQL Interview Questions](https://www.toptal.com/sql/interview-questions)"
   ]
  },
  {
   "cell_type": "markdown",
   "metadata": {},
   "source": [
    "### 1\\. What does `UNION` do? What is the difference between `UNION` and `UNION ALL`?"
   ]
  },
  {
   "cell_type": "markdown",
   "metadata": {},
   "source": [
    "The `UNION` operator is used to combine the result-set of two or more `SELECT` statements. Each `SELECT` statement must have the same number of columns; the result of the `UNION` will have the same column titles as the first `SELECT` statement.\n",
    "\n",
    "`UNION` merges the contents of two structurally-compatible tables into a single combined table. The difference between `UNION` and `UNION ALL` is that `UNION` will omit duplicate records whereas `UNION ALL` will include duplicate records."
   ]
  },
  {
   "cell_type": "markdown",
   "metadata": {},
   "source": [
    "### 2\\. List and explain the different types of `JOIN` clauses supported in ANSI-standard SQL."
   ]
  },
  {
   "cell_type": "markdown",
   "metadata": {},
   "source": [
    "Same as number [9](#9).\n",
    "\n",
    "- `INNER JOIN`: Returns only results from both sides of the join that match the join clause.\n",
    "- `OUTER JOIN`: Returns all results from both sides of the join. Matches rows on the left to the right based on the join clause.\n",
    "- `LEFT JOIN`: Returns all results from the left side of the join. Matches to rows on the right if they exist based on the join clause.\n",
    "- `RIGHT JOIN`: Returns all results from the right side of the join. Matches to rows on the left if they exist based on the join clause.\n",
    "- `CROSS JOIN`: Returns all rows on the right matched with all rows on the left (Cartesian product). Results can be pruned down by the join clause.\n",
    "- `NATURAL JOIN`: This is a weird one, the idea is it implicitly joins on columns with the same name. The usual implementation makes it inner join, the shared columns are only returned once."
   ]
  },
  {
   "cell_type": "markdown",
   "metadata": {},
   "source": [
    "### 3\\. Consider the following two query results:\n",
    "```SQL\n",
    "SELECT count(*) AS total FROM orders;\n",
    "\n",
    "+-------+\n",
    "| total |\n",
    "+-------+\n",
    "|  100  |\n",
    "+-------+\n",
    "\n",
    "SELECT count(*) AS cust_123_total FROM orders WHERE customer_id = '123';\n",
    "\n",
    "+----------------+\n",
    "| cust_123_total |\n",
    "+----------------+\n",
    "|       15       |\n",
    "+----------------+\n",
    "```\n",
    "Given the above query results, what will be the result of the query below?\n",
    "```SQL\n",
    "SELECT count(*) AS cust_not_123_total FROM orders WHERE customer_id <> '123';\n",
    "```"
   ]
  },
  {
   "cell_type": "markdown",
   "metadata": {},
   "source": [
    "85, unless there are any `NULL` values for `customer_id`."
   ]
  },
  {
   "cell_type": "markdown",
   "metadata": {},
   "source": [
    "### 4\\. What will be the result of the query below? Explain your answer and provide a version that behaves correctly.\n",
    "```SQL\n",
    "SELECT CASE WHEN NULL = NULL THEN 'Yup' ELSE 'Nope' END AS Result;\n",
    "```"
   ]
  },
  {
   "cell_type": "markdown",
   "metadata": {},
   "source": [
    "The query will return 'Nope' because you have to compare `NULL` with an `IS` operator, not `=`. Your query should be:\n",
    "```SQL\n",
    "SELECT \n",
    "    CASE WHEN NULL IS NULL \n",
    "        THEN 'Yup'\n",
    "        ELSE 'Nope' \n",
    "    END AS Result;\n",
    "```"
   ]
  },
  {
   "cell_type": "markdown",
   "metadata": {},
   "source": [
    "### 5\\. Given the following tables:\n",
    "```SQL\n",
    "SELECT * FROM runners;\n",
    "+----+--------------+\n",
    "| id | name         |\n",
    "+----+--------------+\n",
    "|  1 | John Doe     |\n",
    "|  2 | Jane Doe     |\n",
    "|  3 | Alice Jones  |\n",
    "|  4 | Bobby Louis  |\n",
    "|  5 | Lisa Romero  |\n",
    "+----+--------------+\n",
    "\n",
    "SELECT * FROM races;\n",
    "+----+----------------+-----------+\n",
    "| id | event          | winner_id |\n",
    "+----+----------------+-----------+\n",
    "|  1 | 100 meter dash |  2        |\n",
    "|  2 | 500 meter dash |  3        |\n",
    "|  3 | cross-country  |  2        |\n",
    "|  4 | triathalon     |  NULL     |\n",
    "+----+----------------+-----------+\n",
    "```\n",
    "What will be the result of the query below?\n",
    "```SQL\n",
    "SELECT * FROM runners WHERE id NOT IN (SELECT winner_id FROM races);\n",
    "```\n",
    "Explain your answer and also provide an alternative version of this query that will avoid the issue that it exposes."
   ]
  },
  {
   "cell_type": "markdown",
   "metadata": {},
   "source": [
    "The query will return an empty set. Selecting something `NOT IN` a set with a `NULL` value will return an empty set. You should use this query instead:\n",
    "```SQL\n",
    "SELECT * \n",
    "FROM runners \n",
    "WHERE id NOT IN (\n",
    "    SELECT winner_id \n",
    "    FROM races \n",
    "    WHERE winner_id IS NOT NULL\n",
    ");\n",
    "```"
   ]
  },
  {
   "cell_type": "markdown",
   "metadata": {},
   "source": [
    "### 6\\. Given two tables created and populated as follows:\n",
    "```SQL\n",
    "CREATE TABLE dbo.envelope(id int, user_id int);\n",
    "CREATE TABLE dbo.docs(idnum int, pageseq int, doctext varchar(100));\n",
    "\n",
    "INSERT INTO dbo.envelope VALUES\n",
    "  (1,1),\n",
    "  (2,2),\n",
    "  (3,3);\n",
    "\n",
    "INSERT INTO dbo.docs(idnum,pageseq) VALUES\n",
    "  (1,5),\n",
    "  (2,6),\n",
    "  (null,0);\n",
    "  ```\n",
    "What will the result be from the following query:\n",
    "```SQL\n",
    "UPDATE docs SET doctext=pageseq FROM docs INNER JOIN envelope ON envelope.id=docs.idnum\n",
    "WHERE EXISTS (\n",
    "  SELECT 1 FROM dbo.docs\n",
    "  WHERE id=envelope.id\n",
    ");\n",
    "```\n",
    "Explain your answer."
   ]
  },
  {
   "cell_type": "markdown",
   "metadata": {},
   "source": [
    "The result of the query will be as follows:\n",
    "```SQL\n",
    "idnum  pageseq  doctext\n",
    "1      5        5\n",
    "2      6        6\n",
    "NULL   0        NULL\n",
    "```\n",
    "The `EXISTS` clause in the above query is a red herring. It will always be true since `id` is not a member of `dbo.docs`. As such, it will refer to the envelope table comparing itself to itself!\n",
    "\n",
    "The `idnum` value of `NULL` will not be set since the `JOIN` of `NULL` will not return a result when attempting a match with any value of envelope."
   ]
  },
  {
   "cell_type": "markdown",
   "metadata": {},
   "source": [
    "### 7\\. What is wrong with this SQL query? Correct it so it executes properly.\n",
    "```SQL\n",
    "SELECT Id, YEAR(BillingDate) AS BillingYear \n",
    "FROM Invoices\n",
    "WHERE BillingYear >= 2010;\n",
    "```"
   ]
  },
  {
   "cell_type": "markdown",
   "metadata": {},
   "source": [
    "```SQL\n",
    "SELECT Id, YEAR(BillingDate) AS BillingYear \n",
    "FROM Invoices\n",
    "WHERE YEAR(BillingDate) >= 2010;\n",
    "```"
   ]
  },
  {
   "cell_type": "markdown",
   "metadata": {},
   "source": [
    "### 8\\. Given these contents of the Customers table:\n",
    "```SQL\n",
    "Id\tName\t\t\tReferredBy\n",
    "1\t John Doe        NULL\n",
    "2\t Jane Smith      NULL\n",
    "3\t Anne Jenkins    2\n",
    "4\t Eric Branford   NULL\n",
    "5\t Pat Richards    1\n",
    "6\t Alice Barnes    2\n",
    "```\n",
    "Here is a query written to return the list of customers not referred by Jane Smith:\n",
    "```SQL\n",
    "SELECT Name FROM Customers WHERE ReferredBy <> 2;\n",
    "```\n",
    "What will be the result of the query? Why? What would be a better way to write it?"
   ]
  },
  {
   "cell_type": "markdown",
   "metadata": {},
   "source": [
    "The result of the query will only be `Pat Richards` because `NULL <> 2` is not a true or false statement, so it will not return. The following query should work:\n",
    "```SQL\n",
    "SELECT Name \n",
    "FROM Customers \n",
    "WHERE ReferredBy IS NULL \n",
    "    OR ReferredBy <> 2;\n",
    "```"
   ]
  },
  {
   "cell_type": "markdown",
   "metadata": {},
   "source": [
    "### 9\\. Considering the database schema displayed in the SQLServer-style diagram below, write a SQL query to return a list of all the invoices. For each invoice, show the Invoice ID, the billing date, the customer’s name, and the name of the customer who referred that customer (if any). The list should be ordered by billing date.\n",
    "<img src='images/sql_schema.png' width=300>"
   ]
  },
  {
   "cell_type": "markdown",
   "metadata": {
    "collapsed": true
   },
   "source": [
    "```SQL\n",
    "SELECT i.id, i.BillingDate, c.Name, r.ReferredBy AS ReferredByName\n",
    "FROM Invoices i\n",
    "    JOIN Customers c ON i.CustomerId = c.id\n",
    "    LEFT JOIN Customers r ON c.id = r.ReferredBy\n",
    "ORDER BY i.BillingDate;\n",
    "```"
   ]
  },
  {
   "cell_type": "markdown",
   "metadata": {},
   "source": [
    "### 10\\. Assume a schema of Emp(Id, Name, DeptId), Dept(Id, Name).\n",
    "\n",
    "If there are 10 records in the Emp table and 5 records in the Dept table, how many rows will be displayed in the result of the following SQL query:\n",
    "```SQL\n",
    "SELECT * FROM Emp, Dept;\n",
    "```\n",
    "\n",
    "Explain your answer."
   ]
  },
  {
   "cell_type": "code",
   "execution_count": null,
   "metadata": {
    "collapsed": true
   },
   "outputs": [],
   "source": []
  }
 ],
 "metadata": {
  "anaconda-cloud": {},
  "kernelspec": {
   "display_name": "Python [Root]",
   "language": "python",
   "name": "Python [Root]"
  },
  "language_info": {
   "codemirror_mode": {
    "name": "ipython",
    "version": 2
   },
   "file_extension": ".py",
   "mimetype": "text/x-python",
   "name": "python",
   "nbconvert_exporter": "python",
   "pygments_lexer": "ipython2",
   "version": "2.7.12"
  }
 },
 "nbformat": 4,
 "nbformat_minor": 0
}
